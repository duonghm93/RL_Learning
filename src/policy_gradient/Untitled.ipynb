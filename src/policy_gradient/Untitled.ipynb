{
 "cells": [
  {
   "cell_type": "code",
   "execution_count": 1,
   "metadata": {
    "ExecuteTime": {
     "end_time": "2021-03-19T09:33:50.886136Z",
     "start_time": "2021-03-19T09:33:46.408330Z"
    }
   },
   "outputs": [],
   "source": [
    "import gym\n",
    "import tensorflow as tf\n",
    "from keras.models import Sequential\n",
    "from keras.layers import Dense, InputLayer\n",
    "from keras.optimizers import Adam\n",
    "from keras.losses import CategoricalCrossentropy\n",
    "from keras.initializers import GlorotUniform\n",
    "import numpy as np\n",
    "\n"
   ]
  },
  {
   "cell_type": "code",
   "execution_count": 28,
   "metadata": {
    "ExecuteTime": {
     "end_time": "2021-03-19T09:52:36.946244Z",
     "start_time": "2021-03-19T09:52:36.910147Z"
    }
   },
   "outputs": [
    {
     "name": "stdout",
     "output_type": "stream",
     "text": [
      "Model: \"sequential_3\"\n",
      "_________________________________________________________________\n",
      "Layer (type)                 Output Shape              Param #   \n",
      "=================================================================\n",
      "dense1 (Dense)               (None, 20)                60        \n",
      "_________________________________________________________________\n",
      "dense2 (Dense)               (None, 10)                210       \n",
      "_________________________________________________________________\n",
      "output (Dense)               (None, 2)                 22        \n",
      "=================================================================\n",
      "Total params: 292\n",
      "Trainable params: 292\n",
      "Non-trainable params: 0\n",
      "_________________________________________________________________\n"
     ]
    }
   ],
   "source": [
    "model = Sequential()\n",
    "model.add(InputLayer(input_shape=(2,)))\n",
    "model.add(Dense(units=20, name='dense1', activation='relu',\n",
    "                kernel_initializer=GlorotUniform(seed=0),\n",
    "                bias_initializer=GlorotUniform(seed=0)))\n",
    "model.add(Dense(units=10, name='dense2', activation='relu',\n",
    "                kernel_initializer=GlorotUniform(seed=0),\n",
    "                bias_initializer=GlorotUniform(seed=0)))\n",
    "model.add(Dense(units=2, name='output', activation='softmax',\n",
    "                kernel_initializer=GlorotUniform(seed=0),\n",
    "                bias_initializer=GlorotUniform(seed=0)))\n",
    "\n",
    "optimizer = Adam(lr=0.01)\n",
    "model.compile(optimizer=optimizer, loss=CategoricalCrossentropy())\n",
    "\n",
    "model.summary()"
   ]
  },
  {
   "cell_type": "code",
   "execution_count": 29,
   "metadata": {
    "ExecuteTime": {
     "end_time": "2021-03-19T09:52:41.787621Z",
     "start_time": "2021-03-19T09:52:41.781618Z"
    }
   },
   "outputs": [
    {
     "name": "stdout",
     "output_type": "stream",
     "text": [
      "[[0.34069657 0.30442519]\n",
      " [0.46586286 0.06145329]\n",
      " [0.18949442 0.88524063]\n",
      " [0.37604    0.82132802]\n",
      " [0.47283945 0.75271028]\n",
      " [0.41395348 0.6479495 ]\n",
      " [0.34863531 0.14091377]\n",
      " [0.52386693 0.90595216]\n",
      " [0.55111651 0.10825176]\n",
      " [0.62558227 0.21719061]]\n",
      "[1 0 1 1 0 1 0 0 0 1]\n",
      "[-4  6  7 16 -3 16 13  3 10 -3]\n"
     ]
    }
   ],
   "source": [
    "n_sample = 10\n",
    "state_dim = 2\n",
    "n_acts = 2\n",
    "states = np.random.rand(n_sample, state_dim)\n",
    "actions = np.random.randint(n_acts, size=n_sample)\n",
    "g = np.random.randint(-5, 20, size=n_sample)\n",
    "print(states)\n",
    "print(actions)\n",
    "print(rewards)"
   ]
  },
  {
   "cell_type": "code",
   "execution_count": 33,
   "metadata": {
    "ExecuteTime": {
     "end_time": "2021-03-19T09:52:59.814859Z",
     "start_time": "2021-03-19T09:52:59.807858Z"
    }
   },
   "outputs": [
    {
     "data": {
      "text/plain": [
       "<tf.Tensor: shape=(10, 2), dtype=float32, numpy=\n",
       "array([[0.21671697, 0.78328305],\n",
       "       [0.23004137, 0.7699587 ],\n",
       "       [0.22409762, 0.7759024 ],\n",
       "       [0.20887823, 0.79112184],\n",
       "       [0.20217721, 0.7978228 ],\n",
       "       [0.20362702, 0.79637295],\n",
       "       [0.22701724, 0.7729827 ],\n",
       "       [0.20202471, 0.79797524],\n",
       "       [0.2254989 , 0.77450114],\n",
       "       [0.21690542, 0.7830946 ]], dtype=float32)>"
      ]
     },
     "execution_count": 33,
     "metadata": {},
     "output_type": "execute_result"
    }
   ],
   "source": [
    "model(states)"
   ]
  },
  {
   "cell_type": "code",
   "execution_count": 41,
   "metadata": {
    "ExecuteTime": {
     "end_time": "2021-03-19T09:54:49.939446Z",
     "start_time": "2021-03-19T09:54:49.932457Z"
    }
   },
   "outputs": [
    {
     "data": {
      "text/plain": [
       "<tf.Tensor: shape=(10,), dtype=float32, numpy=\n",
       "array([ -2.6868725 ,  -1.4694961 ,  -0.        ,   0.2343033 ,\n",
       "       -28.774992  ,  -0.68306303,  -7.4136467 ,  -6.397461  ,\n",
       "       -11.91552   ,  -3.1785233 ], dtype=float32)>"
      ]
     },
     "execution_count": 41,
     "metadata": {},
     "output_type": "execute_result"
    }
   ],
   "source": [
    "tf.math.log(\n",
    "    tf.reduce_max(model(states) * tf.one_hot(actions, 2), axis=1)\n",
    ") * g"
   ]
  },
  {
   "cell_type": "code",
   "execution_count": 43,
   "metadata": {
    "ExecuteTime": {
     "end_time": "2021-03-19T09:55:16.699672Z",
     "start_time": "2021-03-19T09:55:16.696662Z"
    }
   },
   "outputs": [
    {
     "data": {
      "text/plain": [
       "array([11,  1,  0, -1, 18,  3,  5,  4,  8, 13])"
      ]
     },
     "execution_count": 43,
     "metadata": {},
     "output_type": "execute_result"
    }
   ],
   "source": [
    "g"
   ]
  },
  {
   "cell_type": "code",
   "execution_count": 42,
   "metadata": {
    "ExecuteTime": {
     "end_time": "2021-03-19T09:54:58.702201Z",
     "start_time": "2021-03-19T09:54:58.694170Z"
    }
   },
   "outputs": [
    {
     "data": {
      "text/plain": [
       "<tf.Tensor: shape=(10,), dtype=float32, numpy=\n",
       "array([-0.24426115, -1.4694961 , -0.25372857, -0.2343033 , -1.5986106 ,\n",
       "       -0.22768767, -1.4827293 , -1.5993652 , -1.48944   , -0.2445018 ],\n",
       "      dtype=float32)>"
      ]
     },
     "execution_count": 42,
     "metadata": {},
     "output_type": "execute_result"
    }
   ],
   "source": [
    "tf.math.log(\n",
    "    tf.reduce_max(model(states) * tf.one_hot(actions, 2), axis=1)\n",
    ")"
   ]
  },
  {
   "cell_type": "code",
   "execution_count": 23,
   "metadata": {
    "ExecuteTime": {
     "end_time": "2021-03-19T09:51:07.321442Z",
     "start_time": "2021-03-19T09:51:07.314442Z"
    }
   },
   "outputs": [
    {
     "data": {
      "text/plain": [
       "<tf.Tensor: shape=(10, 2), dtype=float32, numpy=\n",
       "array([[-0.6592313 ,  0.53607464],\n",
       "       [-0.7011502 ,  0.7171604 ],\n",
       "       [-0.8317009 ,  0.59882075],\n",
       "       [-0.6555121 ,  0.740333  ],\n",
       "       [-0.83310086,  0.47994095],\n",
       "       [-0.899259  ,  0.4118735 ],\n",
       "       [-0.8838528 ,  0.6024823 ],\n",
       "       [-0.88740665,  0.41205296],\n",
       "       [-0.8829417 ,  0.5492847 ],\n",
       "       [-0.69580525,  0.5764605 ]], dtype=float32)>"
      ]
     },
     "execution_count": 23,
     "metadata": {},
     "output_type": "execute_result"
    }
   ],
   "source": [
    "model(states)"
   ]
  },
  {
   "cell_type": "code",
   "execution_count": null,
   "metadata": {},
   "outputs": [],
   "source": []
  }
 ],
 "metadata": {
  "kernelspec": {
   "display_name": "Python 3",
   "language": "python",
   "name": "python3"
  },
  "language_info": {
   "codemirror_mode": {
    "name": "ipython",
    "version": 3
   },
   "file_extension": ".py",
   "mimetype": "text/x-python",
   "name": "python",
   "nbconvert_exporter": "python",
   "pygments_lexer": "ipython3",
   "version": "3.6.8"
  },
  "toc": {
   "base_numbering": 1,
   "nav_menu": {},
   "number_sections": true,
   "sideBar": true,
   "skip_h1_title": false,
   "title_cell": "Table of Contents",
   "title_sidebar": "Contents",
   "toc_cell": false,
   "toc_position": {},
   "toc_section_display": true,
   "toc_window_display": false
  },
  "varInspector": {
   "cols": {
    "lenName": 16,
    "lenType": 16,
    "lenVar": 40
   },
   "kernels_config": {
    "python": {
     "delete_cmd_postfix": "",
     "delete_cmd_prefix": "del ",
     "library": "var_list.py",
     "varRefreshCmd": "print(var_dic_list())"
    },
    "r": {
     "delete_cmd_postfix": ") ",
     "delete_cmd_prefix": "rm(",
     "library": "var_list.r",
     "varRefreshCmd": "cat(var_dic_list()) "
    }
   },
   "types_to_exclude": [
    "module",
    "function",
    "builtin_function_or_method",
    "instance",
    "_Feature"
   ],
   "window_display": false
  }
 },
 "nbformat": 4,
 "nbformat_minor": 2
}
